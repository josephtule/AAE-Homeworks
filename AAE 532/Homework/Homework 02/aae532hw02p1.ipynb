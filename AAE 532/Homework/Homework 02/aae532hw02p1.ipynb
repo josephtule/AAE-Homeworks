{
 "cells": [
  {
   "cell_type": "markdown",
   "source": [
    "# AAE 532 - Problem Set 02\r\n",
    "## Joseph Le\r\n",
    "## 10 September 2021"
   ],
   "metadata": {}
  },
  {
   "cell_type": "markdown",
   "source": [
    "## Packages Used:"
   ],
   "metadata": {}
  },
  {
   "cell_type": "code",
   "execution_count": 38,
   "source": [
    "import math as ma\r\n",
    "import numpy as np"
   ],
   "outputs": [],
   "metadata": {}
  },
  {
   "cell_type": "markdown",
   "source": [
    "# Part a)"
   ],
   "metadata": {}
  },
  {
   "cell_type": "markdown",
   "source": [
    "## Symbols:\r\n",
    "\r\n",
    "### Bodies -\r\n",
    "Earth - E  \r\n",
    "Moon - M  \r\n",
    "Spacecraft - SC  \r\n",
    "Sun - S  \r\n",
    "\r\n",
    "### Parameters -\r\n",
    "Mass - m  \r\n",
    "Radius/Distance - r  \r\n",
    "Center of Mass - CM  \r\n",
    "Gravitational Constant - G  \r\n",
    "Gravitational Parameter - mu = G*m  "
   ],
   "metadata": {}
  },
  {
   "cell_type": "code",
   "execution_count": 39,
   "source": [
    "# Formatting Strings and Values\r\n",
    "prec = 6 # floating point precision\r\n",
    "mass = 'kg'\r\n",
    "distance = 'km'\r\n",
    "accel = 'km/s^2'\r\n",
    "\r\n",
    "# Given Parameters\r\n",
    "G = 6.67408E-11 # m^3 * kg^-1 * s^-2, Gravitational Constant\r\n",
    "\r\n",
    "# Given distances (semi-major axes)\r\n",
    "r_E_M = 384400 # km\r\n",
    "r_E_SC = 1.5e6\r\n",
    "r_E_S = 149597898\r\n",
    "\r\n",
    "# Gravitational Parameters\r\n",
    "mu_E = 398600.4415e9 # m^3 * s^-2\r\n",
    "mu_M = 4902.8005821478e9 \r\n",
    "mu_S = 132712440017.99e9 \r\n",
    "\r\n",
    "# Masses of Bodies\r\n",
    "m2 = mu_E/G # kg\r\n",
    "m3 = mu_M/G\r\n",
    "m4 = 6500\r\n",
    "m1 = mu_S/G\r\n",
    "\r\n",
    "print(f'Earth Mass: {m2:.{prec}e} {mass}',\r\n",
    "      f'Moon Mass: {m3:.{prec}e} {mass}',\r\n",
    "      f'Spacecraft Mass: {m4:.{prec}e} {mass}',\r\n",
    "      f'Sun Mass: {m1:.{prec}e} {mass}', sep='\\n')\r\n"
   ],
   "outputs": [
    {
     "output_type": "stream",
     "name": "stdout",
     "text": [
      "Earth Mass: 5.972365e+24 kg\n",
      "Moon Mass: 7.346032e+22 kg\n",
      "Spacecraft Mass: 6.500000e+03 kg\n",
      "Sun Mass: 1.988475e+30 kg\n"
     ]
    }
   ],
   "metadata": {}
  },
  {
   "cell_type": "code",
   "execution_count": 40,
   "source": [
    "# Distances from the Sun\r\n",
    "r_S_E = r_E_S\r\n",
    "r_S_M = r_S_E + r_E_M\r\n",
    "r_S_SC = r_S_E + r_E_SC\r\n",
    "\r\n",
    "# Total Mass\r\n",
    "m_total = m2 + m3 + m4 + m1 # kg\r\n",
    "\r\n",
    "# CM distance from Sun\r\n",
    "r_S_CM = (r_S_E * m2 + r_S_M * m3 + r_S_SC * m4) / m_total\r\n",
    "\r\n",
    "# Distances from CM\r\n",
    "r_E = r_S_E - r_S_CM\r\n",
    "r_M = r_S_M - r_S_CM\r\n",
    "r_SC = r_S_SC - r_S_CM\r\n",
    "r_S = 0 - r_S_CM\r\n",
    "\r\n",
    "print(f'Earth Distance from Sun: {r_S_E:.0f} {distance}',\r\n",
    "      f'Moon Distance from Sun: {r_S_M:.0f} {distance}',\r\n",
    "      f'Spacecraft Distance from Sun: {r_S_SC:.0f} {distance}', sep='\\n')\r\n",
    "print('\\n')\r\n",
    "print(f'Sun Distance from CM: {r_S:.{prec}f} {distance}',\r\n",
    "      f'Earth Distance from CM: {r_E:.{prec}f} {distance}',\r\n",
    "      f'Moon Distance from CM: {r_M:.{prec}f} {distance}',\r\n",
    "      f'Spacecraft Distance from CM: {r_SC:.{prec}f} {distance}', sep='\\n')\r\n"
   ],
   "outputs": [
    {
     "output_type": "stream",
     "name": "stdout",
     "text": [
      "Earth Distance from Sun: 149597898 km\n",
      "Moon Distance from Sun: 149982298 km\n",
      "Spacecraft Distance from Sun: 151097898 km\n",
      "\n",
      "\n",
      "Sun Distance from CM: -454.855159 km\n",
      "Earth Distance from CM: 149597443.144841 km\n",
      "Moon Distance from CM: 149981843.144841 km\n",
      "Spacecraft Distance from CM: 151097443.144841 km\n"
     ]
    }
   ],
   "metadata": {}
  },
  {
   "cell_type": "markdown",
   "source": [
    "# Part b)"
   ],
   "metadata": {}
  },
  {
   "cell_type": "code",
   "execution_count": 41,
   "source": [
    "# Calculate acceleration contribution on spacecraft by other bodies\r\n",
    "a_sc_s = -G * m1 / ((r_SC - r_S)**2)\r\n",
    "a_sc_e = -G * m2 / ((r_SC - r_E)**2)\r\n",
    "a_sc_m = -G * m3 / ((r_SC - r_M)**2)\r\n",
    "a_sc = a_sc_s + a_sc_e + a_sc_m\r\n",
    "\r\n",
    "print(f'The acceleration contribution from the Sun on the spacecraft is: {a_sc_s:.{prec}f} {accel}',\r\n",
    "      f'The acceleration contribution from the Earth on the spacecraft is: {a_sc_e:.{prec}f} {accel}',\r\n",
    "      f'The acceleration contribution from the Moon on the spacecraft is: {a_sc_m:.{prec}f} {accel}',\r\n",
    "      f'The total acceleration on the spacecraft is: {a_sc:.{prec}f} {accel}', sep='\\n')\r\n"
   ],
   "outputs": [
    {
     "output_type": "stream",
     "name": "stdout",
     "text": [
      "The acceleration contribution from the Sun on the spacecraft is: -5812.925925 km/s^2\n",
      "The acceleration contribution from the Earth on the spacecraft is: -177.155752 km/s^2\n",
      "The acceleration contribution from the Moon on the spacecraft is: -3.939374 km/s^2\n",
      "The total acceleration on the spacecraft is: -5994.021051 km/s^2\n"
     ]
    }
   ],
   "metadata": {}
  },
  {
   "cell_type": "markdown",
   "source": [
    "# Part c)"
   ],
   "metadata": {}
  },
  {
   "cell_type": "code",
   "execution_count": 42,
   "source": [
    "# Calculate distances between spacecraft and bodies\r\n",
    "r41 = r_S - r_SC\r\n",
    "r42 = r_E - r_SC\r\n",
    "r43 = r_M - r_SC\r\n",
    "print('\\n')\r\n",
    "print(f'The distance between the spacecraft and the Sun is: {abs(r41):.0f} {distance}',\r\n",
    "      f'The distance between the spacecraft and the Earth is: {abs(r42):.0f} {distance}',\r\n",
    "      f'The distance between the spacecraft and the Moon is: {abs(r43):.0f} {distance}', sep='\\n')"
   ],
   "outputs": [
    {
     "output_type": "stream",
     "name": "stdout",
     "text": [
      "\n",
      "\n",
      "The distance between the spacecraft and the Sun is: 151097898 km\n",
      "The distance between the spacecraft and the Earth is: 1500000 km\n",
      "The distance between the spacecraft and the Moon is: 1115600 km\n"
     ]
    }
   ],
   "metadata": {}
  },
  {
   "cell_type": "markdown",
   "source": [
    "# Part e)"
   ],
   "metadata": {}
  },
  {
   "cell_type": "code",
   "execution_count": 63,
   "source": [
    "G = 6.67E-20 # redefining gravitational constant for km\r\n",
    "\r\n",
    "# Calculate acceleration terms\r\n",
    "accel_24_dom = -G * (m2 + m4) * (-r42)/(abs(-r42)**3)\r\n",
    "accel_24_sun_dir = G * m1 * r41/(abs(r41)**3)\r\n",
    "accel_24_sun_ind = - G * m1 * -r_S_E/(abs(-r_S_E)**3)\r\n",
    "accel_24_moon_dir = G * m3 * r43/(abs(r43)**3)\r\n",
    "accel_24_moon_ind = - G * m3 * r_E_M/(abs(r_E_M)**3)\r\n",
    "accel_24 = accel_24_dom + accel_24_sun_dir + accel_24_sun_ind + accel_24_moon_dir + accel_24_moon_ind\r\n",
    "\r\n",
    "print(\r\n",
    "    f'The dominant acceleration (caused by Earth) on the distance between Earth and the Spacecraft is: {accel_24_dom:.{prec}e} {accel}',\r\n",
    "    f'The direct and indirect perturbation accelerations cause by the Sun on the Spacecraft are: {accel_24_sun_dir:.{prec}e} {accel} and {accel_24_sun_ind:.{prec}e} {accel} respectively',\r\n",
    "    f'The direct and indirect perturbation accelerations cause by the Moon on the Spacecraft are: {accel_24_moon_dir:.{prec}e} {accel} and {accel_24_moon_ind:.{prec}e} {accel} respectively',\r\n",
    "    f'The total acceleration between Earth and the Spacecraft is: {accel_24:.{prec}e} {accel}',\r\n",
    "    sep='\\n')\r\n",
    "print(accel_24_sun_dir + accel_24_sun_ind)\r\n"
   ],
   "outputs": [
    {
     "output_type": "stream",
     "name": "stdout",
     "text": [
      "The dominant acceleration (caused by Earth) on the distance between Earth and the Spacecraft is: -1.770475e-07 km/s^2\n",
      "The direct and indirect perturbation accelerations cause by the Sun on the Spacecraft are: -5.809372e-06 km/s^2 and 5.926456e-06 km/s^2 respectively\n",
      "The direct and indirect perturbation accelerations cause by the Moon on the Spacecraft are: -3.936966e-09 km/s^2 and -3.315980e-08 km/s^2 respectively\n",
      "The total acceleration between Earth and the Spacecraft is: -9.706041e-08 km/s^2\n",
      "1.1708381027261887e-07\n"
     ]
    }
   ],
   "metadata": {}
  }
 ],
 "metadata": {
  "orig_nbformat": 4,
  "language_info": {
   "name": "python",
   "version": "3.9.5",
   "mimetype": "text/x-python",
   "codemirror_mode": {
    "name": "ipython",
    "version": 3
   },
   "pygments_lexer": "ipython3",
   "nbconvert_exporter": "python",
   "file_extension": ".py"
  },
  "kernelspec": {
   "name": "python3",
   "display_name": "Python 3.9.5 64-bit"
  },
  "interpreter": {
   "hash": "58e44f17b68efb379cbe4d62d8eb29669d62251138374b19be04be7719564863"
  }
 },
 "nbformat": 4,
 "nbformat_minor": 2
}
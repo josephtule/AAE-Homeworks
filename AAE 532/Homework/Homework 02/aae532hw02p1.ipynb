{
 "cells": [
  {
   "cell_type": "markdown",
   "source": [
    "# AAE 532 - Problem Set 02\r\n",
    "## Joseph Le\r\n",
    "## 10 September 2021"
   ],
   "metadata": {}
  },
  {
   "cell_type": "markdown",
   "source": [
    "## Packages Used:"
   ],
   "metadata": {}
  },
  {
   "cell_type": "code",
   "execution_count": 1,
   "source": [
    "import math as ma\r\n",
    "import numpy as np"
   ],
   "outputs": [],
   "metadata": {}
  },
  {
   "cell_type": "markdown",
   "source": [
    "# Part a)"
   ],
   "metadata": {}
  },
  {
   "cell_type": "markdown",
   "source": [
    "## Symbols:\r\n",
    "\r\n",
    "### Bodies -\r\n",
    "Earth - E  \r\n",
    "Moon - M  \r\n",
    "Spacecraft - SC  \r\n",
    "Sun - S  \r\n",
    "\r\n",
    "### Parameters -\r\n",
    "Mass - m  \r\n",
    "Radius/Distance - r  \r\n",
    "Center of Mass - CM  \r\n",
    "Gravitational Constant - G  \r\n",
    "Gravitational Parameter - mu = G*m  "
   ],
   "metadata": {}
  },
  {
   "cell_type": "code",
   "execution_count": 20,
   "source": [
    "G = 6.67408E-11 # m^3 * kg^-1 * s^-2\r\n",
    "\r\n",
    "r_E_M = 384400 # km\r\n",
    "r_E_SC = 1.5e6\r\n",
    "r_E_S = 149597898\r\n",
    "\r\n",
    "mu_E = 398600.4415e9 # m^3 * s^-2\r\n",
    "mu_M = 4902.8005821478e9 \r\n",
    "mu_S = 132712440017.99e9 \r\n",
    "\r\n",
    "m_E = mu_E/G # kg\r\n",
    "m_M = mu_M/G\r\n",
    "m_SC = 6500\r\n",
    "m_S = mu_S/G\r\n",
    "\r\n",
    "mass = 'kg'\r\n",
    "distance = 'km'\r\n",
    "\r\n",
    "print(f'Earth Mass: {m_E:.4e} {mass}',f'Moon Mass: {m_M:.4e} {mass}',\r\n",
    "      f'Spacecraft Mass: {m_SC:.4e} {mass}',f'Sun Mass: {m_S:.4e} {mass}',sep='\\n')"
   ],
   "outputs": [
    {
     "output_type": "stream",
     "name": "stdout",
     "text": [
      "Earth Mass: 5.9724e+24 kg\n",
      "Moon Mass: 7.3460e+22 kg\n",
      "Spacecraft Mass: 6.5000e+03 kg\n",
      "Sun Mass: 1.9885e+30 kg\n"
     ]
    }
   ],
   "metadata": {}
  },
  {
   "cell_type": "code",
   "execution_count": 30,
   "source": [
    "r_S_E = r_E_S\r\n",
    "r_S_M = r_S_E + r_E_M\r\n",
    "r_S_SC = r_S_E + r_E_SC\r\n",
    "\r\n",
    "m_total = m_E + m_M + m_SC + m_S\r\n",
    "\r\n",
    "r_S_CM = (r_S_E * m_E + r_S_M * m_M + r_S_SC * m_SC) / m_total\r\n",
    "print(f'Earth Distance from Sun: {r_S_E} {distance}',f'Moon Distance from Sun: {r_S_M} {distance}',\r\n",
    "      f'Spacecraft Distance from Sun: {r_S_SC:.0f} {distance}', sep='\\n')\r\n",
    "print(f'The Center of Mass Distance from the center of the Sun is: {r_S_CM:.4f} {distance}')\r\n"
   ],
   "outputs": [
    {
     "output_type": "stream",
     "name": "stdout",
     "text": [
      "Earth Distance from Sun: 149597898 km\n",
      "Moon Distance from Sun: 149982298 km\n",
      "Spacecraft Distance from Sun: 151097898 km\n",
      "The Center of Mass Distance from the center of the Sun is: 454.8552 km\n"
     ]
    }
   ],
   "metadata": {}
  }
 ],
 "metadata": {
  "orig_nbformat": 4,
  "language_info": {
   "name": "python",
   "version": "3.9.5",
   "mimetype": "text/x-python",
   "codemirror_mode": {
    "name": "ipython",
    "version": 3
   },
   "pygments_lexer": "ipython3",
   "nbconvert_exporter": "python",
   "file_extension": ".py"
  },
  "kernelspec": {
   "name": "python3",
   "display_name": "Python 3.9.5 64-bit"
  },
  "interpreter": {
   "hash": "58e44f17b68efb379cbe4d62d8eb29669d62251138374b19be04be7719564863"
  }
 },
 "nbformat": 4,
 "nbformat_minor": 2
}
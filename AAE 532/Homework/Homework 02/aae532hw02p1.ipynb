{
 "cells": [
  {
   "cell_type": "markdown",
   "source": [
    "# AAE 532 - Problem Set 02\r\n",
    "## Joseph Le\r\n",
    "## 10 September 2021"
   ],
   "metadata": {}
  },
  {
   "cell_type": "markdown",
   "source": [
    "## Packages Used:"
   ],
   "metadata": {}
  },
  {
   "cell_type": "code",
   "execution_count": 2,
   "source": [
    "import math as ma\r\n",
    "import numpy as np"
   ],
   "outputs": [],
   "metadata": {}
  },
  {
   "cell_type": "markdown",
   "source": [
    "# Part a)"
   ],
   "metadata": {}
  },
  {
   "cell_type": "markdown",
   "source": [
    "## Symbols:\r\n",
    "\r\n",
    "### Bodies -\r\n",
    "Earth - E  \r\n",
    "Moon - M  \r\n",
    "Spacecraft - SC  \r\n",
    "Sun - S  \r\n",
    "\r\n",
    "### Parameters -\r\n",
    "Mass - m  \r\n",
    "Radius/Distance - r  \r\n",
    "Center of Mass - CM  \r\n",
    "Gravitational Constant - G  \r\n",
    "Gravitational Parameter - mu = G*m  "
   ],
   "metadata": {}
  },
  {
   "cell_type": "code",
   "execution_count": 8,
   "source": [
    "# Formatting Strings and Values\r\n",
    "prec = 6 # floating point precision\r\n",
    "mass = 'kg'\r\n",
    "distance = 'km'\r\n",
    "accel = 'km/s^2'\r\n",
    "\r\n",
    "# Given Parameters\r\n",
    "G = 6.67408E-11 # m^3 * kg^-1 * s^-2, Gravitational Constant\r\n",
    "\r\n",
    "# Given distances (semi-major axes)\r\n",
    "r_E_M = 384400 # km\r\n",
    "r_E_SC = 1.5e6\r\n",
    "r_E_S = 149597898\r\n",
    "\r\n",
    "# Gravitational Parameters\r\n",
    "mu_E = 398600.4415e9 # m^3 * s^-2\r\n",
    "mu_M = 4902.8005821478e9 \r\n",
    "mu_S = 132712440017.99e9 \r\n",
    "\r\n",
    "# Masses of Bodies\r\n",
    "m_E = mu_E/G # kg\r\n",
    "m_M = mu_M/G\r\n",
    "m_SC = 6500\r\n",
    "m_S = mu_S/G\r\n",
    "\r\n",
    "print(f'Earth Mass: {m_E:.4e} {mass}',f'Moon Mass: {m_M:.4e} {mass}',\r\n",
    "      f'Spacecraft Mass: {m_SC:.4e} {mass}',f'Sun Mass: {m_S:.4e} {mass}',sep='\\n')\r\n"
   ],
   "outputs": [
    {
     "output_type": "stream",
     "name": "stdout",
     "text": [
      "Earth Mass: 5.9724e+24 kg\n",
      "Moon Mass: 7.3460e+22 kg\n",
      "Spacecraft Mass: 6.5000e+03 kg\n",
      "Sun Mass: 1.9885e+30 kg\n"
     ]
    }
   ],
   "metadata": {}
  },
  {
   "cell_type": "code",
   "execution_count": 7,
   "source": [
    "# Distances from the Sun\r\n",
    "r_S_E = r_E_S\r\n",
    "r_S_M = r_S_E + r_E_M\r\n",
    "r_S_SC = r_S_E + r_E_SC\r\n",
    "\r\n",
    "# Total Mass\r\n",
    "m_total = m_E + m_M + m_SC + m_S # kg\r\n",
    "\r\n",
    "# CM distance from Sun\r\n",
    "r_S_CM = (r_S_E * m_E + r_S_M * m_M + r_S_SC * m_SC) / m_total\r\n",
    "\r\n",
    "# Distances from CM\r\n",
    "r_E = r_S_E - r_S_CM\r\n",
    "r_M = r_S_M - r_S_CM\r\n",
    "r_SC = r_S_SC - r_S_CM\r\n",
    "r_S = 0 - r_S_CM\r\n",
    "\r\n",
    "print(f'Earth Distance from Sun: {r_S_E:.0f} {distance}',\r\n",
    "      f'Moon Distance from Sun: {r_S_M:.0f} {distance}',\r\n",
    "      f'Spacecraft Distance from Sun: {r_S_SC:.0f} {distance}', sep='\\n')\r\n",
    "print('\\n')\r\n",
    "print(f'Sun Distance from CM: {r_S:.4f} {distance}',\r\n",
    "      f'Earth Distance from CM: {r_E:.4f} {distance}',\r\n",
    "      f'Moon Distance from CM: {r_M:.4f} {distance}',\r\n",
    "      f'Spacecraft Distance from CM: {r_SC:.4f} {distance}', sep='\\n')"
   ],
   "outputs": [
    {
     "output_type": "stream",
     "name": "stdout",
     "text": [
      "Earth Distance from Sun: 149597898 km\n",
      "Moon Distance from Sun: 149982298 km\n",
      "Spacecraft Distance from Sun: 151097898 km\n",
      "\n",
      "\n",
      "Sun Distance from CM: -454.8552 km\n",
      "Earth Distance from CM: 149597443.1448 km\n",
      "Moon Distance from CM: 149981843.1448 km\n",
      "Spacecraft Distance from CM: 151097443.1448 km\n"
     ]
    }
   ],
   "metadata": {}
  },
  {
   "cell_type": "markdown",
   "source": [
    "# Part b)"
   ],
   "metadata": {}
  },
  {
   "cell_type": "code",
   "execution_count": 14,
   "source": [
    "# Calculate acceleration contribution on spacecraft by other bodies\r\n",
    "a_sc_s = -G * m_S / ((r_SC - r_S)**2)\r\n",
    "a_sc_e = -G * m_E / ((r_SC - r_E)**2)\r\n",
    "a_sc_m = -G * m_M / ((r_SC - r_M)**2)\r\n",
    "\r\n",
    "print(f'The acceleration contribution from the Sun on the spacecraft is: {a_sc_s:.{prec}f} {accel}',\r\n",
    "      f'The acceleration contribution from the Earth on the spacecraft is: {a_sc_e:.{prec}f} {accel}',\r\n",
    "      f'The acceleration contribution from the Moon on the spacecraft is: {a_sc_m:.{prec}f} {accel}', sep='\\n')\r\n"
   ],
   "outputs": [
    {
     "output_type": "stream",
     "name": "stdout",
     "text": [
      "The acceleration contribution from the Sun on the spacecraft is: -5812.92592 km/s^2\n",
      "The acceleration contribution from the Earth on the spacecraft is: -177.15575 km/s^2\n",
      "The acceleration contribution from the Moon on the spacecraft is: -3.93937 km/s^2\n"
     ]
    }
   ],
   "metadata": {}
  }
 ],
 "metadata": {
  "orig_nbformat": 4,
  "language_info": {
   "name": "python",
   "version": "3.9.5",
   "mimetype": "text/x-python",
   "codemirror_mode": {
    "name": "ipython",
    "version": 3
   },
   "pygments_lexer": "ipython3",
   "nbconvert_exporter": "python",
   "file_extension": ".py"
  },
  "kernelspec": {
   "name": "python3",
   "display_name": "Python 3.9.5 64-bit"
  },
  "interpreter": {
   "hash": "58e44f17b68efb379cbe4d62d8eb29669d62251138374b19be04be7719564863"
  }
 },
 "nbformat": 4,
 "nbformat_minor": 2
}